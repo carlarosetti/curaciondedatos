{
 "cells": [
  {
   "cell_type": "markdown",
   "metadata": {
    "colab_type": "text",
    "id": "hCyDR1G5DTQm"
   },
   "source": [
    "**Integrantes**: Carla Rosetti, Juliana Benitez, Pablo Roldan"
   ]
  },
  {
   "cell_type": "markdown",
   "metadata": {
    "colab_type": "text",
    "id": "Q0k3YkYu9lY3"
   },
   "source": [
    "## **ANÁLISIS Y CURACIÓN DE DATOS**"
   ]
  },
  {
   "cell_type": "markdown",
   "metadata": {
    "colab_type": "text",
    "id": "9ylO2Yyh93Nj"
   },
   "source": [
    "#**Pasos Fronterizos**"
   ]
  },
  {
   "cell_type": "markdown",
   "metadata": {
    "colab_type": "text",
    "id": "fcJHUx5f-B2n"
   },
   "source": [
    "En primer lugar, importamos las librerías con las cuales trabajaremos."
   ]
  },
  {
   "cell_type": "code",
   "execution_count": 1,
   "metadata": {
    "colab": {},
    "colab_type": "code",
    "collapsed": true,
    "id": "bdceUDHY-jbP"
   },
   "outputs": [],
   "source": [
    "import pandas\n",
    "import seaborn\n",
    "import matplotlib.pyplot as plt"
   ]
  },
  {
   "cell_type": "code",
   "execution_count": 16,
   "metadata": {
    "colab": {},
    "colab_type": "code",
    "id": "jnLW5B5nA1u6"
   },
   "outputs": [
    {
     "data": {
      "text/html": [
       "<div>\n",
       "<style scoped>\n",
       "    .dataframe tbody tr th:only-of-type {\n",
       "        vertical-align: middle;\n",
       "    }\n",
       "\n",
       "    .dataframe tbody tr th {\n",
       "        vertical-align: top;\n",
       "    }\n",
       "\n",
       "    .dataframe thead th {\n",
       "        text-align: right;\n",
       "    }\n",
       "</style>\n",
       "<table border=\"1\" class=\"dataframe\">\n",
       "  <thead>\n",
       "    <tr style=\"text-align: right;\">\n",
       "      <th></th>\n",
       "      <th>location</th>\n",
       "      <th>name</th>\n",
       "      <th>province</th>\n",
       "    </tr>\n",
       "  </thead>\n",
       "  <tbody>\n",
       "    <tr>\n",
       "      <th>0</th>\n",
       "      <td>[-54.832543, -68.3712885]</td>\n",
       "      <td>SAN SEBASTIAN  ( USHUAIA )</td>\n",
       "      <td>Tierra del Fuego</td>\n",
       "    </tr>\n",
       "    <tr>\n",
       "      <th>1</th>\n",
       "      <td>[-54.8249379, -68.3258626]</td>\n",
       "      <td>AERO PUBLICO DE USHUAIA</td>\n",
       "      <td>Tierra del Fuego</td>\n",
       "    </tr>\n",
       "    <tr>\n",
       "      <th>2</th>\n",
       "      <td>[-54.8096728, -68.3114748]</td>\n",
       "      <td>PUERTO USHUAIA (PREFECTURA)</td>\n",
       "      <td>Tierra del Fuego</td>\n",
       "    </tr>\n",
       "    <tr>\n",
       "      <th>3</th>\n",
       "      <td>[-54.8019121, -68.3029511]</td>\n",
       "      <td>PUERTO USHUAIA</td>\n",
       "      <td>Tierra del Fuego</td>\n",
       "    </tr>\n",
       "    <tr>\n",
       "      <th>4</th>\n",
       "      <td>[-51.6896359, -72.2993574]</td>\n",
       "      <td>PASO LAURITA CASAS VIEJAS</td>\n",
       "      <td>Santa Cruz</td>\n",
       "    </tr>\n",
       "    <tr>\n",
       "      <th>5</th>\n",
       "      <td>[-51.5866042, -72.3649779]</td>\n",
       "      <td>PASO DOROTEA</td>\n",
       "      <td>Santa Cruz</td>\n",
       "    </tr>\n",
       "    <tr>\n",
       "      <th>6</th>\n",
       "      <td>[-51.2544488, -72.2652242]</td>\n",
       "      <td>PASO RIO DON GUILLERMO</td>\n",
       "      <td>Santa Cruz</td>\n",
       "    </tr>\n",
       "    <tr>\n",
       "      <th>7</th>\n",
       "      <td>[-53.3229179, -68.6063227]</td>\n",
       "      <td>PASO SAN SEBASTIAN</td>\n",
       "      <td>Tierra del Fuego</td>\n",
       "    </tr>\n",
       "    <tr>\n",
       "      <th>8</th>\n",
       "      <td>[-53.78438, -67.7173342]</td>\n",
       "      <td>TERMINAL RIO GRANDE</td>\n",
       "      <td>Tierra del Fuego</td>\n",
       "    </tr>\n",
       "    <tr>\n",
       "      <th>9</th>\n",
       "      <td>[-53.7860374, -67.7002243]</td>\n",
       "      <td>PUERTO RIO GRANDE</td>\n",
       "      <td>Tierra del Fuego</td>\n",
       "    </tr>\n",
       "    <tr>\n",
       "      <th>10</th>\n",
       "      <td>[-52.2527012, -69.8852885]</td>\n",
       "      <td>MONTE AYMOND</td>\n",
       "      <td>Santa Cruz</td>\n",
       "    </tr>\n",
       "    <tr>\n",
       "      <th>11</th>\n",
       "      <td>[-52.1304141, -69.5198778]</td>\n",
       "      <td>INTEGRACION AUSTRAL</td>\n",
       "      <td>Santa Cruz</td>\n",
       "    </tr>\n",
       "    <tr>\n",
       "      <th>12</th>\n",
       "      <td>[-50.283977, -72.0558347]</td>\n",
       "      <td>AERO EL CALAFATE</td>\n",
       "      <td>Santa Cruz</td>\n",
       "    </tr>\n",
       "    <tr>\n",
       "      <th>13</th>\n",
       "      <td>[-52.3274981, -68.3692192]</td>\n",
       "      <td>PASO CABO VIRGENES</td>\n",
       "      <td>Santa Cruz</td>\n",
       "    </tr>\n",
       "    <tr>\n",
       "      <th>14</th>\n",
       "      <td>[-51.6117879, -69.3085038]</td>\n",
       "      <td>AERO RIO GALLEGOS</td>\n",
       "      <td>Santa Cruz</td>\n",
       "    </tr>\n",
       "    <tr>\n",
       "      <th>15</th>\n",
       "      <td>[-51.6117879, -69.3085038]</td>\n",
       "      <td>AERO RIO GALLEGOS</td>\n",
       "      <td>AEROPUERTO INTERNACIONAL PILOTO CIVIL NORBERTO...</td>\n",
       "    </tr>\n",
       "    <tr>\n",
       "      <th>16</th>\n",
       "      <td>[-51.6230485, -69.2168291]</td>\n",
       "      <td>PUERTO RIO GALLEGOS</td>\n",
       "      <td>Santa Cruz</td>\n",
       "    </tr>\n",
       "    <tr>\n",
       "      <th>17</th>\n",
       "      <td>[-45.9146467, -71.6458095]</td>\n",
       "      <td>HUEMULES</td>\n",
       "      <td>Santa Cruz</td>\n",
       "    </tr>\n",
       "    <tr>\n",
       "      <th>18</th>\n",
       "      <td>[-50.115518, -68.4132101]</td>\n",
       "      <td>PUERTO PUNTA QUILLA</td>\n",
       "      <td>Santa Cruz</td>\n",
       "    </tr>\n",
       "    <tr>\n",
       "      <th>19</th>\n",
       "      <td>[-50.0247276, -68.5243815]</td>\n",
       "      <td>PUERTO SANTA CRUZ</td>\n",
       "      <td>Santa Cruz</td>\n",
       "    </tr>\n",
       "    <tr>\n",
       "      <th>20</th>\n",
       "      <td>[-49.3068942, -67.7298249]</td>\n",
       "      <td>PUERTO SAN JULIAN</td>\n",
       "      <td>Santa Cruz</td>\n",
       "    </tr>\n",
       "    <tr>\n",
       "      <th>21</th>\n",
       "      <td>[-46.5851781, -71.6706662]</td>\n",
       "      <td>PASO JEINIMENI - CHILE CHICO</td>\n",
       "      <td>Santa Cruz</td>\n",
       "    </tr>\n",
       "    <tr>\n",
       "      <th>22</th>\n",
       "      <td>[-46.2752267, -71.7270022]</td>\n",
       "      <td>ING. PALLAVICINI - IBAÑEZ</td>\n",
       "      <td>Santa Cruz</td>\n",
       "    </tr>\n",
       "    <tr>\n",
       "      <th>23</th>\n",
       "      <td>[-46.2752267, -71.7270022]</td>\n",
       "      <td>ING. PALLAVICINI - IBAÑEZ</td>\n",
       "      <td>Santa Cruz</td>\n",
       "    </tr>\n",
       "    <tr>\n",
       "      <th>24</th>\n",
       "      <td>[-45.5236846, -71.6370845]</td>\n",
       "      <td>PASO COIHAIQUE</td>\n",
       "      <td>Santa Cruz</td>\n",
       "    </tr>\n",
       "    <tr>\n",
       "      <th>25</th>\n",
       "      <td>[-45.582347, -71.7251078]</td>\n",
       "      <td>PASO TRIANA</td>\n",
       "      <td>Chubut</td>\n",
       "    </tr>\n",
       "    <tr>\n",
       "      <th>26</th>\n",
       "      <td>[-47.7515646, -65.9013773]</td>\n",
       "      <td>PUERTO DESEADO</td>\n",
       "      <td>Santa Cruz</td>\n",
       "    </tr>\n",
       "    <tr>\n",
       "      <th>27</th>\n",
       "      <td>[-45.0144719, -70.8198792]</td>\n",
       "      <td>AEROPUERTO ALTO RIO SENGUER</td>\n",
       "      <td>Chubut</td>\n",
       "    </tr>\n",
       "    <tr>\n",
       "      <th>28</th>\n",
       "      <td>[-46.4742858, -67.5003124]</td>\n",
       "      <td>PUERTO CALETA OLIVIA</td>\n",
       "      <td>Santa Cruz</td>\n",
       "    </tr>\n",
       "    <tr>\n",
       "      <th>29</th>\n",
       "      <td>[-45.862387, -67.4664881]</td>\n",
       "      <td>PUERTO COMODORO RIVADAVIA</td>\n",
       "      <td>Chubut</td>\n",
       "    </tr>\n",
       "    <tr>\n",
       "      <th>...</th>\n",
       "      <td>...</td>\n",
       "      <td>...</td>\n",
       "      <td>...</td>\n",
       "    </tr>\n",
       "    <tr>\n",
       "      <th>222</th>\n",
       "      <td>[-22.096667, -65.596389]</td>\n",
       "      <td>LA QUIACA - VILLAZON</td>\n",
       "      <td>Jujuy</td>\n",
       "    </tr>\n",
       "    <tr>\n",
       "      <th>223</th>\n",
       "      <td>[-22.0554561, -63.6885824]</td>\n",
       "      <td>SALVADOR MAZZA - YACUIBA</td>\n",
       "      <td>Jujuy</td>\n",
       "    </tr>\n",
       "    <tr>\n",
       "      <th>224</th>\n",
       "      <td>[-41.1467101, -71.1642129]</td>\n",
       "      <td>AERO BARILOCHE</td>\n",
       "      <td>Rio Negro</td>\n",
       "    </tr>\n",
       "    <tr>\n",
       "      <th>225</th>\n",
       "      <td>[-26.216682, -58.2327793]</td>\n",
       "      <td>AERO FORMOSA</td>\n",
       "      <td>Formosa</td>\n",
       "    </tr>\n",
       "    <tr>\n",
       "      <th>226</th>\n",
       "      <td>[-35.4834837, -69.5867919]</td>\n",
       "      <td>AERO MALARGUE</td>\n",
       "      <td>Mendoza</td>\n",
       "    </tr>\n",
       "    <tr>\n",
       "      <th>227</th>\n",
       "      <td>[-37.9341161, -57.5745361]</td>\n",
       "      <td>AERO MAR DEL PLATA</td>\n",
       "      <td>Buenos Aires</td>\n",
       "    </tr>\n",
       "    <tr>\n",
       "      <th>228</th>\n",
       "      <td>[-29.6881667, -57.1553125]</td>\n",
       "      <td>AERO PASO DE LOS LIBRES</td>\n",
       "      <td>Mendoza</td>\n",
       "    </tr>\n",
       "    <tr>\n",
       "      <th>229</th>\n",
       "      <td>[-53.7856913, -67.7582472]</td>\n",
       "      <td>AERO RIO GRANDE</td>\n",
       "      <td>Tierra del Fuego</td>\n",
       "    </tr>\n",
       "    <tr>\n",
       "      <th>230</th>\n",
       "      <td>[-31.7088748, -60.8100047]</td>\n",
       "      <td>AERO SAUCE VIEJO</td>\n",
       "      <td>Santa Fe</td>\n",
       "    </tr>\n",
       "    <tr>\n",
       "      <th>231</th>\n",
       "      <td>[-22.619167, -63.793333]</td>\n",
       "      <td>AERO TARTAGAL</td>\n",
       "      <td>Jujuy</td>\n",
       "    </tr>\n",
       "    <tr>\n",
       "      <th>232</th>\n",
       "      <td>[-27.5063076, -64.9352342]</td>\n",
       "      <td>AERO TERMAS RIO HONDO</td>\n",
       "      <td>Santiago del Estero</td>\n",
       "    </tr>\n",
       "    <tr>\n",
       "      <th>233</th>\n",
       "      <td>[-25.601999, -53.975597]</td>\n",
       "      <td>ANDRESITO - CAPANEMA</td>\n",
       "      <td>Misiones</td>\n",
       "    </tr>\n",
       "    <tr>\n",
       "      <th>234</th>\n",
       "      <td>[-32.825277, -70.0729456]</td>\n",
       "      <td>CRISTO REDENTOR (HORCONES)</td>\n",
       "      <td>Mendoza</td>\n",
       "    </tr>\n",
       "    <tr>\n",
       "      <th>235</th>\n",
       "      <td>[-32.825277, -70.0729456]</td>\n",
       "      <td>CRISTO REDENTOR PUNTA DE VACAS</td>\n",
       "      <td>Mendoza</td>\n",
       "    </tr>\n",
       "    <tr>\n",
       "      <th>236</th>\n",
       "      <td>[-23.677289299999998, -61.9181406]</td>\n",
       "      <td>EL REMANSO - LA VERDE</td>\n",
       "      <td>Formosa</td>\n",
       "    </tr>\n",
       "    <tr>\n",
       "      <th>237</th>\n",
       "      <td>[-24.8027954, -59.2496609]</td>\n",
       "      <td>GRL BELGRANO - GRL BRUGUEZ</td>\n",
       "      <td>Chaco</td>\n",
       "    </tr>\n",
       "    <tr>\n",
       "      <th>238</th>\n",
       "      <td>[-33.0056407, -58.5146586]</td>\n",
       "      <td>GUALEGUAYCHU - FRAY BENTOS</td>\n",
       "      <td>Entre Rios</td>\n",
       "    </tr>\n",
       "    <tr>\n",
       "      <th>239</th>\n",
       "      <td>[-40.1133859, -71.6806031]</td>\n",
       "      <td>HUA HUM (FLUVIAL)</td>\n",
       "      <td>Neuquen</td>\n",
       "    </tr>\n",
       "    <tr>\n",
       "      <th>240</th>\n",
       "      <td>[-25.768889, -53.851111]</td>\n",
       "      <td>INTEGRACION - PLANALTO</td>\n",
       "      <td>Misiones</td>\n",
       "    </tr>\n",
       "    <tr>\n",
       "      <th>241</th>\n",
       "      <td>[-41.697539, -65.0469293]</td>\n",
       "      <td>MUELLE PUNTA COLORADA</td>\n",
       "      <td>Rio Negro</td>\n",
       "    </tr>\n",
       "    <tr>\n",
       "      <th>242</th>\n",
       "      <td>[-25.2860542, -57.7112013]</td>\n",
       "      <td>PASARELA LA FRATERNIDAD</td>\n",
       "      <td>Formosa</td>\n",
       "    </tr>\n",
       "    <tr>\n",
       "      <th>243</th>\n",
       "      <td>[-53.657868, -68.6045084]</td>\n",
       "      <td>PASO ALFA CULLEN</td>\n",
       "      <td>Tierra del Fuego</td>\n",
       "    </tr>\n",
       "    <tr>\n",
       "      <th>244</th>\n",
       "      <td>[-23.216667, -67.05]</td>\n",
       "      <td>PASO DE JAMA SUR</td>\n",
       "      <td>Jujuy</td>\n",
       "    </tr>\n",
       "    <tr>\n",
       "      <th>245</th>\n",
       "      <td>[-31.2999984, -70.5675526]</td>\n",
       "      <td>PASO EL AZUFRE</td>\n",
       "      <td>Mendoza</td>\n",
       "    </tr>\n",
       "    <tr>\n",
       "      <th>246</th>\n",
       "      <td>[-24.012778, -60.0375]</td>\n",
       "      <td>PASO ISLETA</td>\n",
       "      <td>Formosa</td>\n",
       "    </tr>\n",
       "    <tr>\n",
       "      <th>247</th>\n",
       "      <td>[-45.2213569, -71.3610803]</td>\n",
       "      <td>PASO PAMPA ALTA</td>\n",
       "      <td>Chubut</td>\n",
       "    </tr>\n",
       "    <tr>\n",
       "      <th>248</th>\n",
       "      <td>[-48.8772007, -72.7288579]</td>\n",
       "      <td>PASO PORTEZUELO DE LA DIVISORIA</td>\n",
       "      <td>Santa Cruz</td>\n",
       "    </tr>\n",
       "    <tr>\n",
       "      <th>249</th>\n",
       "      <td>[-34.1176359, -57.9897668]</td>\n",
       "      <td>ROU COLONIA</td>\n",
       "      <td>Buenos Aires</td>\n",
       "    </tr>\n",
       "    <tr>\n",
       "      <th>250</th>\n",
       "      <td>[-34.1176359, -57.9897668]</td>\n",
       "      <td>ROU COLONIA</td>\n",
       "      <td>Buenos Aires</td>\n",
       "    </tr>\n",
       "    <tr>\n",
       "      <th>251</th>\n",
       "      <td>[-25.6221088, -54.6080637]</td>\n",
       "      <td>ZONA FRANCA IGUAZU (TRANSITO)</td>\n",
       "      <td>Misiones</td>\n",
       "    </tr>\n",
       "  </tbody>\n",
       "</table>\n",
       "<p>252 rows × 3 columns</p>\n",
       "</div>"
      ],
      "text/plain": [
       "                               location                             name  \\\n",
       "0             [-54.832543, -68.3712885]       SAN SEBASTIAN  ( USHUAIA )   \n",
       "1            [-54.8249379, -68.3258626]          AERO PUBLICO DE USHUAIA   \n",
       "2            [-54.8096728, -68.3114748]      PUERTO USHUAIA (PREFECTURA)   \n",
       "3            [-54.8019121, -68.3029511]                   PUERTO USHUAIA   \n",
       "4            [-51.6896359, -72.2993574]        PASO LAURITA CASAS VIEJAS   \n",
       "5            [-51.5866042, -72.3649779]                     PASO DOROTEA   \n",
       "6            [-51.2544488, -72.2652242]           PASO RIO DON GUILLERMO   \n",
       "7            [-53.3229179, -68.6063227]               PASO SAN SEBASTIAN   \n",
       "8              [-53.78438, -67.7173342]              TERMINAL RIO GRANDE   \n",
       "9            [-53.7860374, -67.7002243]                PUERTO RIO GRANDE   \n",
       "10           [-52.2527012, -69.8852885]                     MONTE AYMOND   \n",
       "11           [-52.1304141, -69.5198778]              INTEGRACION AUSTRAL   \n",
       "12            [-50.283977, -72.0558347]                 AERO EL CALAFATE   \n",
       "13           [-52.3274981, -68.3692192]               PASO CABO VIRGENES   \n",
       "14           [-51.6117879, -69.3085038]                AERO RIO GALLEGOS   \n",
       "15           [-51.6117879, -69.3085038]                AERO RIO GALLEGOS   \n",
       "16           [-51.6230485, -69.2168291]              PUERTO RIO GALLEGOS   \n",
       "17           [-45.9146467, -71.6458095]                         HUEMULES   \n",
       "18            [-50.115518, -68.4132101]              PUERTO PUNTA QUILLA   \n",
       "19           [-50.0247276, -68.5243815]                PUERTO SANTA CRUZ   \n",
       "20           [-49.3068942, -67.7298249]                PUERTO SAN JULIAN   \n",
       "21           [-46.5851781, -71.6706662]     PASO JEINIMENI - CHILE CHICO   \n",
       "22           [-46.2752267, -71.7270022]        ING. PALLAVICINI - IBAÑEZ   \n",
       "23           [-46.2752267, -71.7270022]        ING. PALLAVICINI - IBAÑEZ   \n",
       "24           [-45.5236846, -71.6370845]                   PASO COIHAIQUE   \n",
       "25            [-45.582347, -71.7251078]                      PASO TRIANA   \n",
       "26           [-47.7515646, -65.9013773]                   PUERTO DESEADO   \n",
       "27           [-45.0144719, -70.8198792]      AEROPUERTO ALTO RIO SENGUER   \n",
       "28           [-46.4742858, -67.5003124]             PUERTO CALETA OLIVIA   \n",
       "29            [-45.862387, -67.4664881]        PUERTO COMODORO RIVADAVIA   \n",
       "..                                  ...                              ...   \n",
       "222            [-22.096667, -65.596389]             LA QUIACA - VILLAZON   \n",
       "223          [-22.0554561, -63.6885824]         SALVADOR MAZZA - YACUIBA   \n",
       "224          [-41.1467101, -71.1642129]                   AERO BARILOCHE   \n",
       "225           [-26.216682, -58.2327793]                     AERO FORMOSA   \n",
       "226          [-35.4834837, -69.5867919]                    AERO MALARGUE   \n",
       "227          [-37.9341161, -57.5745361]               AERO MAR DEL PLATA   \n",
       "228          [-29.6881667, -57.1553125]          AERO PASO DE LOS LIBRES   \n",
       "229          [-53.7856913, -67.7582472]                  AERO RIO GRANDE   \n",
       "230          [-31.7088748, -60.8100047]                 AERO SAUCE VIEJO   \n",
       "231            [-22.619167, -63.793333]                    AERO TARTAGAL   \n",
       "232          [-27.5063076, -64.9352342]            AERO TERMAS RIO HONDO   \n",
       "233            [-25.601999, -53.975597]             ANDRESITO - CAPANEMA   \n",
       "234           [-32.825277, -70.0729456]       CRISTO REDENTOR (HORCONES)   \n",
       "235           [-32.825277, -70.0729456]   CRISTO REDENTOR PUNTA DE VACAS   \n",
       "236  [-23.677289299999998, -61.9181406]            EL REMANSO - LA VERDE   \n",
       "237          [-24.8027954, -59.2496609]       GRL BELGRANO - GRL BRUGUEZ   \n",
       "238          [-33.0056407, -58.5146586]       GUALEGUAYCHU - FRAY BENTOS   \n",
       "239          [-40.1133859, -71.6806031]                HUA HUM (FLUVIAL)   \n",
       "240            [-25.768889, -53.851111]           INTEGRACION - PLANALTO   \n",
       "241           [-41.697539, -65.0469293]            MUELLE PUNTA COLORADA   \n",
       "242          [-25.2860542, -57.7112013]          PASARELA LA FRATERNIDAD   \n",
       "243           [-53.657868, -68.6045084]                 PASO ALFA CULLEN   \n",
       "244                [-23.216667, -67.05]                 PASO DE JAMA SUR   \n",
       "245          [-31.2999984, -70.5675526]                   PASO EL AZUFRE   \n",
       "246              [-24.012778, -60.0375]                      PASO ISLETA   \n",
       "247          [-45.2213569, -71.3610803]                  PASO PAMPA ALTA   \n",
       "248          [-48.8772007, -72.7288579]  PASO PORTEZUELO DE LA DIVISORIA   \n",
       "249          [-34.1176359, -57.9897668]                      ROU COLONIA   \n",
       "250          [-34.1176359, -57.9897668]                      ROU COLONIA   \n",
       "251          [-25.6221088, -54.6080637]    ZONA FRANCA IGUAZU (TRANSITO)   \n",
       "\n",
       "                                              province  \n",
       "0                                     Tierra del Fuego  \n",
       "1                                     Tierra del Fuego  \n",
       "2                                     Tierra del Fuego  \n",
       "3                                     Tierra del Fuego  \n",
       "4                                           Santa Cruz  \n",
       "5                                           Santa Cruz  \n",
       "6                                           Santa Cruz  \n",
       "7                                     Tierra del Fuego  \n",
       "8                                     Tierra del Fuego  \n",
       "9                                     Tierra del Fuego  \n",
       "10                                          Santa Cruz  \n",
       "11                                          Santa Cruz  \n",
       "12                                          Santa Cruz  \n",
       "13                                          Santa Cruz  \n",
       "14                                          Santa Cruz  \n",
       "15   AEROPUERTO INTERNACIONAL PILOTO CIVIL NORBERTO...  \n",
       "16                                          Santa Cruz  \n",
       "17                                          Santa Cruz  \n",
       "18                                          Santa Cruz  \n",
       "19                                          Santa Cruz  \n",
       "20                                          Santa Cruz  \n",
       "21                                          Santa Cruz  \n",
       "22                                          Santa Cruz  \n",
       "23                                          Santa Cruz  \n",
       "24                                          Santa Cruz  \n",
       "25                                              Chubut  \n",
       "26                                          Santa Cruz  \n",
       "27                                              Chubut  \n",
       "28                                          Santa Cruz  \n",
       "29                                              Chubut  \n",
       "..                                                 ...  \n",
       "222                                              Jujuy  \n",
       "223                                              Jujuy  \n",
       "224                                          Rio Negro  \n",
       "225                                            Formosa  \n",
       "226                                            Mendoza  \n",
       "227                                       Buenos Aires  \n",
       "228                                            Mendoza  \n",
       "229                                   Tierra del Fuego  \n",
       "230                                           Santa Fe  \n",
       "231                                              Jujuy  \n",
       "232                                Santiago del Estero  \n",
       "233                                           Misiones  \n",
       "234                                            Mendoza  \n",
       "235                                            Mendoza  \n",
       "236                                            Formosa  \n",
       "237                                              Chaco  \n",
       "238                                         Entre Rios  \n",
       "239                                            Neuquen  \n",
       "240                                           Misiones  \n",
       "241                                          Rio Negro  \n",
       "242                                            Formosa  \n",
       "243                                   Tierra del Fuego  \n",
       "244                                              Jujuy  \n",
       "245                                            Mendoza  \n",
       "246                                            Formosa  \n",
       "247                                             Chubut  \n",
       "248                                         Santa Cruz  \n",
       "249                                       Buenos Aires  \n",
       "250                                       Buenos Aires  \n",
       "251                                           Misiones  \n",
       "\n",
       "[252 rows x 3 columns]"
      ]
     },
     "execution_count": 16,
     "metadata": {},
     "output_type": "execute_result"
    }
   ],
   "source": [
    "df_pasosFronterizos = pandas.read_json(\"https://raw.githubusercontent.com/DiploDatos/AnalisisYCuracion/master/input/pasos.json\")\n",
    "df_pasosFronterizos"
   ]
  },
  {
   "cell_type": "markdown",
   "metadata": {
    "colab_type": "text",
    "id": "sUxqV9gTF09W"
   },
   "source": [
    "Identificamos las características del data frame y buscamos determinar si hay valores nulos."
   ]
  },
  {
   "cell_type": "code",
   "execution_count": 17,
   "metadata": {
    "colab": {
     "base_uri": "https://localhost:8080/",
     "height": 35
    },
    "colab_type": "code",
    "executionInfo": {
     "elapsed": 898,
     "status": "ok",
     "timestamp": 1558613874546,
     "user": {
      "displayName": "Juliana Benitez",
      "photoUrl": "https://lh4.googleusercontent.com/-TYJeaI3-pUw/AAAAAAAAAAI/AAAAAAAAAAA/ZXIXTUKrYJA/s64/photo.jpg",
      "userId": "03386804934134887580"
     },
     "user_tz": 180
    },
    "id": "r6fC5SSbF8ae",
    "outputId": "3e8eecbd-6ffb-44ed-9808-8a2edc207354"
   },
   "outputs": [
    {
     "data": {
      "text/plain": [
       "(252, 3)"
      ]
     },
     "execution_count": 17,
     "metadata": {},
     "output_type": "execute_result"
    }
   ],
   "source": [
    "df_pasosFronterizos.shape"
   ]
  },
  {
   "cell_type": "code",
   "execution_count": 18,
   "metadata": {
    "colab": {
     "base_uri": "https://localhost:8080/",
     "height": 84
    },
    "colab_type": "code",
    "id": "4IYq4NEUGWL2",
    "outputId": "15f72453-16b1-460f-8199-4b551029d53d"
   },
   "outputs": [
    {
     "data": {
      "text/plain": [
       "location    object\n",
       "name        object\n",
       "province    object\n",
       "dtype: object"
      ]
     },
     "execution_count": 18,
     "metadata": {},
     "output_type": "execute_result"
    }
   ],
   "source": [
    "df_pasosFronterizos.dtypes"
   ]
  },
  {
   "cell_type": "code",
   "execution_count": 19,
   "metadata": {
    "colab": {
     "base_uri": "https://localhost:8080/",
     "height": 151
    },
    "colab_type": "code",
    "id": "47QphpNNNUe8",
    "outputId": "3819469b-ff85-439d-8f71-3c0f2283ec21"
   },
   "outputs": [
    {
     "name": "stdout",
     "output_type": "stream",
     "text": [
      "<class 'pandas.core.frame.DataFrame'>\n",
      "RangeIndex: 252 entries, 0 to 251\n",
      "Data columns (total 3 columns):\n",
      "location    252 non-null object\n",
      "name        252 non-null object\n",
      "province    252 non-null object\n",
      "dtypes: object(3)\n",
      "memory usage: 6.0+ KB\n"
     ]
    }
   ],
   "source": [
    "df_pasosFronterizos.info()"
   ]
  },
  {
   "cell_type": "code",
   "execution_count": 20,
   "metadata": {
    "colab": {
     "base_uri": "https://localhost:8080/",
     "height": 84
    },
    "colab_type": "code",
    "id": "aD_eGFXnOg7o",
    "outputId": "12ef6c03-a3b7-4cd6-cd35-79e0e67ebb5e"
   },
   "outputs": [
    {
     "data": {
      "text/plain": [
       "location    252\n",
       "name        252\n",
       "province    252\n",
       "dtype: int64"
      ]
     },
     "execution_count": 20,
     "metadata": {},
     "output_type": "execute_result"
    }
   ],
   "source": [
    "df_pasosFronterizos.count()"
   ]
  },
  {
   "cell_type": "markdown",
   "metadata": {},
   "source": [
    "Ennumeramos las provincias del dataframe"
   ]
  },
  {
   "cell_type": "code",
   "execution_count": 24,
   "metadata": {},
   "outputs": [
    {
     "data": {
      "text/plain": [
       "array(['Tierra del Fuego', 'Santa Cruz',\n",
       "       'AEROPUERTO INTERNACIONAL PILOTO CIVIL NORBERTO FERNANDEZ',\n",
       "       'Chubut', 'Rio Negro', 'Neuquen', 'NEUQUEN', 'Buenos Aires',\n",
       "       'Mendoza', 'San Luis', 'San Juan', 'Santa Fe', 'Córdoba',\n",
       "       'Cordoba', 'Entre Rios', 'La Rioja', 'Corrientes', 'Catamarca',\n",
       "       'Santiago del Estero', 'Tucuman', 'Chaco', 'Misiones', 'Formosa',\n",
       "       'Salta', 'Jujuy'], dtype=object)"
      ]
     },
     "execution_count": 24,
     "metadata": {},
     "output_type": "execute_result"
    }
   ],
   "source": [
    "df_pasosFronterizos.province.unique()"
   ]
  },
  {
   "cell_type": "code",
   "execution_count": 25,
   "metadata": {
    "collapsed": true
   },
   "outputs": [],
   "source": [
    "df_pasosFronterizos = df_pasosFronterizos[df_pasosFronterizos.province != 'AEROPUERTO INTERNACIONAL PILOTO CIVIL NORBERTO FERNANDEZ']\n",
    "df_pasosFronterizos = df_pasosFronterizos.replace({'NEUQUEN': 'Neuquen', 'Córdoba': 'Cordoba'})"
   ]
  },
  {
   "cell_type": "markdown",
   "metadata": {
    "colab_type": "text",
    "id": "hRUZm1-3RfAY"
   },
   "source": [
    "**Gráfica de distribución de frecuencia de los pasos**"
   ]
  },
  {
   "cell_type": "code",
   "execution_count": 26,
   "metadata": {
    "colab": {
     "base_uri": "https://localhost:8080/",
     "height": 654
    },
    "colab_type": "code",
    "executionInfo": {
     "elapsed": 1171,
     "status": "ok",
     "timestamp": 1558614113542,
     "user": {
      "displayName": "Juliana Benitez",
      "photoUrl": "https://lh4.googleusercontent.com/-TYJeaI3-pUw/AAAAAAAAAAI/AAAAAAAAAAA/ZXIXTUKrYJA/s64/photo.jpg",
      "userId": "03386804934134887580"
     },
     "user_tz": 180
    },
    "id": "lqLCNPllRf4s",
    "outputId": "eaef50db-f27a-41a6-9019-1fb715d94670"
   },
   "outputs": [
    {
     "data": {
      "text/plain": [
       "<matplotlib.axes._subplots.AxesSubplot at 0x7f9b83cf9a20>"
      ]
     },
     "execution_count": 26,
     "metadata": {},
     "output_type": "execute_result"
    },
    {
     "data": {
      "image/png": "[encoded data removed]",
      "text/plain": [
       "<Figure size 1080x720 with 1 Axes>"
      ]
     },
     "metadata": {
      "needs_background": "light"
     },
     "output_type": "display_data"
    }
   ],
   "source": [
    "plt.figure(figsize=(15,10))\n",
    "plt.title('Pasos por Provincia')\n",
    "plt.xlabel('Número de Pasos por provincia');\n",
    "plt.ylabel('Distribución de probabilidad')\n",
    "plt.rcParams.update({'font.size': 15})\n",
    "seaborn.distplot(df_pasosFronterizos.province.value_counts().to_frame(), bins=25)"
   ]
  },
  {
   "cell_type": "markdown",
   "metadata": {
    "colab_type": "text",
    "id": "Epf5p0Rgdefn"
   },
   "source": [
    "**Gráfica de cantidad de pasos de cada Provincia**\n",
    "\n"
   ]
  },
  {
   "cell_type": "code",
   "execution_count": 29,
   "metadata": {
    "colab": {
     "base_uri": "https://localhost:8080/",
     "height": 749
    },
    "colab_type": "code",
    "executionInfo": {
     "elapsed": 1667,
     "status": "ok",
     "timestamp": 1558614077636,
     "user": {
      "displayName": "Juliana Benitez",
      "photoUrl": "https://lh4.googleusercontent.com/-TYJeaI3-pUw/AAAAAAAAAAI/AAAAAAAAAAA/ZXIXTUKrYJA/s64/photo.jpg",
      "userId": "03386804934134887580"
     },
     "user_tz": 180
    },
    "id": "QH9WWs5-jscR",
    "outputId": "66f8b298-d1eb-48f0-c5a4-03ba90d3b148"
   },
   "outputs": [
    {
     "data": {
      "image/png": "[encoded data removed]",
      "text/plain": [
       "<Figure size 1440x720 with 1 Axes>"
      ]
     },
     "metadata": {
      "needs_background": "light"
     },
     "output_type": "display_data"
    }
   ],
   "source": [
    "df=df_pasosFronterizos.province.value_counts().to_frame()\n",
    "df_nuevo = df.reset_index()\n",
    "\n",
    "#df_nuevo\n",
    "provincia = df_nuevo [\"index\"].tolist()\n",
    "\n",
    "cantidad = df_nuevo [\"province\"].tolist()\n",
    "\n",
    "plt.figure(figsize=(20,10))\n",
    "\n",
    "plt.bar(provincia,cantidad)\n",
    "\n",
    "plt.xticks(provincia, rotation=90)\n",
    "\n",
    "plt.ylabel(\"Cantidad de pasos\")\n",
    "\n",
    "plt.title(\"Cantidad de Pasos por Provincia\")\n",
    "\n",
    "\n",
    "\n",
    "plt.show()"
   ]
  },
  {
   "cell_type": "code",
   "execution_count": null,
   "metadata": {
    "collapsed": true
   },
   "outputs": [],
   "source": []
  }
 ],
 "metadata": {
  "colab": {
   "collapsed_sections": [],
   "name": "Copia de Copia_de_Pasos_Fronterizos.ipynb",
   "provenance": [
    {
     "file_id": "12U_GoEuQWJ01IXOn6WKFsPUVpsAo3Cvy",
     "timestamp": 1558614152371
    }
   ],
   "version": "0.3.2"
  },
  "kernelspec": {
   "display_name": "Python 3",
   "language": "python",
   "name": "python3"
  },
  "language_info": {
   "codemirror_mode": {
    "name": "ipython",
    "version": 3
   },
   "file_extension": ".py",
   "mimetype": "text/x-python",
   "name": "python",
   "nbconvert_exporter": "python",
   "pygments_lexer": "ipython3",
   "version": "3.6.1"
  }
 },
 "nbformat": 4,
 "nbformat_minor": 1
}
